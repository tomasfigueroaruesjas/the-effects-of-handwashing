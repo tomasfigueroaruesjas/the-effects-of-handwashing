{
 "cells": [
  {
   "cell_type": "code",
   "execution_count": 1,
   "id": "ef18fdcb-202c-4bb5-9df0-9d1c81b1db6c",
   "metadata": {},
   "outputs": [
    {
     "data": {
      "text/html": [
       "<div>\n",
       "<style scoped>\n",
       "    .dataframe tbody tr th:only-of-type {\n",
       "        vertical-align: middle;\n",
       "    }\n",
       "\n",
       "    .dataframe tbody tr th {\n",
       "        vertical-align: top;\n",
       "    }\n",
       "\n",
       "    .dataframe thead th {\n",
       "        text-align: right;\n",
       "    }\n",
       "</style>\n",
       "<table border=\"1\" class=\"dataframe\">\n",
       "  <thead>\n",
       "    <tr style=\"text-align: right;\">\n",
       "      <th></th>\n",
       "      <th>year</th>\n",
       "      <th>births</th>\n",
       "      <th>deaths</th>\n",
       "    </tr>\n",
       "  </thead>\n",
       "  <tbody>\n",
       "    <tr>\n",
       "      <th>count</th>\n",
       "      <td>12.000000</td>\n",
       "      <td>12.000000</td>\n",
       "      <td>12.000000</td>\n",
       "    </tr>\n",
       "    <tr>\n",
       "      <th>mean</th>\n",
       "      <td>1843.500000</td>\n",
       "      <td>3152.750000</td>\n",
       "      <td>223.333333</td>\n",
       "    </tr>\n",
       "    <tr>\n",
       "      <th>std</th>\n",
       "      <td>1.783765</td>\n",
       "      <td>449.078476</td>\n",
       "      <td>145.383089</td>\n",
       "    </tr>\n",
       "    <tr>\n",
       "      <th>min</th>\n",
       "      <td>1841.000000</td>\n",
       "      <td>2442.000000</td>\n",
       "      <td>66.000000</td>\n",
       "    </tr>\n",
       "    <tr>\n",
       "      <th>25%</th>\n",
       "      <td>1842.000000</td>\n",
       "      <td>2901.750000</td>\n",
       "      <td>100.250000</td>\n",
       "    </tr>\n",
       "    <tr>\n",
       "      <th>50%</th>\n",
       "      <td>1843.500000</td>\n",
       "      <td>3108.500000</td>\n",
       "      <td>219.500000</td>\n",
       "    </tr>\n",
       "    <tr>\n",
       "      <th>75%</th>\n",
       "      <td>1845.000000</td>\n",
       "      <td>3338.250000</td>\n",
       "      <td>263.500000</td>\n",
       "    </tr>\n",
       "    <tr>\n",
       "      <th>max</th>\n",
       "      <td>1846.000000</td>\n",
       "      <td>4010.000000</td>\n",
       "      <td>518.000000</td>\n",
       "    </tr>\n",
       "  </tbody>\n",
       "</table>\n",
       "</div>"
      ],
      "text/plain": [
       "              year       births      deaths\n",
       "count    12.000000    12.000000   12.000000\n",
       "mean   1843.500000  3152.750000  223.333333\n",
       "std       1.783765   449.078476  145.383089\n",
       "min    1841.000000  2442.000000   66.000000\n",
       "25%    1842.000000  2901.750000  100.250000\n",
       "50%    1843.500000  3108.500000  219.500000\n",
       "75%    1845.000000  3338.250000  263.500000\n",
       "max    1846.000000  4010.000000  518.000000"
      ]
     },
     "execution_count": 1,
     "metadata": {},
     "output_type": "execute_result"
    }
   ],
   "source": [
    "import pandas as pd\n",
    "import numpy as np\n",
    "import matplotlib.pyplot as plt\n",
    "\n",
    "yearly_deaths = pd.read_csv('Data/yearly_deaths_by_clinic.csv')"
   ]
  },
  {
   "cell_type": "code",
   "execution_count": 2,
   "id": "0965b998-312c-4425-9f36-57c98c857068",
   "metadata": {},
   "outputs": [
    {
     "data": {
      "text/html": [
       "<div>\n",
       "<style scoped>\n",
       "    .dataframe tbody tr th:only-of-type {\n",
       "        vertical-align: middle;\n",
       "    }\n",
       "\n",
       "    .dataframe tbody tr th {\n",
       "        vertical-align: top;\n",
       "    }\n",
       "\n",
       "    .dataframe thead th {\n",
       "        text-align: right;\n",
       "    }\n",
       "</style>\n",
       "<table border=\"1\" class=\"dataframe\">\n",
       "  <thead>\n",
       "    <tr style=\"text-align: right;\">\n",
       "      <th></th>\n",
       "      <th>year</th>\n",
       "      <th>births</th>\n",
       "      <th>deaths</th>\n",
       "      <th>clinic</th>\n",
       "    </tr>\n",
       "  </thead>\n",
       "  <tbody>\n",
       "    <tr>\n",
       "      <th>0</th>\n",
       "      <td>1841</td>\n",
       "      <td>3036</td>\n",
       "      <td>237</td>\n",
       "      <td>clinic 1</td>\n",
       "    </tr>\n",
       "    <tr>\n",
       "      <th>1</th>\n",
       "      <td>1842</td>\n",
       "      <td>3287</td>\n",
       "      <td>518</td>\n",
       "      <td>clinic 1</td>\n",
       "    </tr>\n",
       "    <tr>\n",
       "      <th>2</th>\n",
       "      <td>1843</td>\n",
       "      <td>3060</td>\n",
       "      <td>274</td>\n",
       "      <td>clinic 1</td>\n",
       "    </tr>\n",
       "    <tr>\n",
       "      <th>3</th>\n",
       "      <td>1844</td>\n",
       "      <td>3157</td>\n",
       "      <td>260</td>\n",
       "      <td>clinic 1</td>\n",
       "    </tr>\n",
       "    <tr>\n",
       "      <th>4</th>\n",
       "      <td>1845</td>\n",
       "      <td>3492</td>\n",
       "      <td>241</td>\n",
       "      <td>clinic 1</td>\n",
       "    </tr>\n",
       "    <tr>\n",
       "      <th>5</th>\n",
       "      <td>1846</td>\n",
       "      <td>4010</td>\n",
       "      <td>459</td>\n",
       "      <td>clinic 1</td>\n",
       "    </tr>\n",
       "    <tr>\n",
       "      <th>6</th>\n",
       "      <td>1841</td>\n",
       "      <td>2442</td>\n",
       "      <td>86</td>\n",
       "      <td>clinic 2</td>\n",
       "    </tr>\n",
       "    <tr>\n",
       "      <th>7</th>\n",
       "      <td>1842</td>\n",
       "      <td>2659</td>\n",
       "      <td>202</td>\n",
       "      <td>clinic 2</td>\n",
       "    </tr>\n",
       "    <tr>\n",
       "      <th>8</th>\n",
       "      <td>1843</td>\n",
       "      <td>2739</td>\n",
       "      <td>164</td>\n",
       "      <td>clinic 2</td>\n",
       "    </tr>\n",
       "    <tr>\n",
       "      <th>9</th>\n",
       "      <td>1844</td>\n",
       "      <td>2956</td>\n",
       "      <td>68</td>\n",
       "      <td>clinic 2</td>\n",
       "    </tr>\n",
       "    <tr>\n",
       "      <th>10</th>\n",
       "      <td>1845</td>\n",
       "      <td>3241</td>\n",
       "      <td>66</td>\n",
       "      <td>clinic 2</td>\n",
       "    </tr>\n",
       "    <tr>\n",
       "      <th>11</th>\n",
       "      <td>1846</td>\n",
       "      <td>3754</td>\n",
       "      <td>105</td>\n",
       "      <td>clinic 2</td>\n",
       "    </tr>\n",
       "  </tbody>\n",
       "</table>\n",
       "</div>"
      ],
      "text/plain": [
       "    year  births  deaths    clinic\n",
       "0   1841    3036     237  clinic 1\n",
       "1   1842    3287     518  clinic 1\n",
       "2   1843    3060     274  clinic 1\n",
       "3   1844    3157     260  clinic 1\n",
       "4   1845    3492     241  clinic 1\n",
       "5   1846    4010     459  clinic 1\n",
       "6   1841    2442      86  clinic 2\n",
       "7   1842    2659     202  clinic 2\n",
       "8   1843    2739     164  clinic 2\n",
       "9   1844    2956      68  clinic 2\n",
       "10  1845    3241      66  clinic 2\n",
       "11  1846    3754     105  clinic 2"
      ]
     },
     "execution_count": 2,
     "metadata": {},
     "output_type": "execute_result"
    }
   ],
   "source": [
    "yearly_deaths.loc[:]"
   ]
  },
  {
   "cell_type": "markdown",
   "id": "db43316c-31ac-4eb4-98d8-39bbe88880b0",
   "metadata": {},
   "source": [
    "### Mean"
   ]
  },
  {
   "cell_type": "code",
   "execution_count": 3,
   "id": "d046dfaf-6f5c-49c3-b989-843e4b025cd6",
   "metadata": {},
   "outputs": [
    {
     "data": {
      "text/plain": [
       "np.float64(331.5)"
      ]
     },
     "execution_count": 3,
     "metadata": {},
     "output_type": "execute_result"
    }
   ],
   "source": [
    "mask = yearly_deaths['clinic'] == 'clinic 1'\n",
    "yearly_deaths[mask].deaths.mean()"
   ]
  },
  {
   "cell_type": "code",
   "execution_count": 4,
   "id": "60fb24de-cb6b-4aa9-9733-356576494cc7",
   "metadata": {},
   "outputs": [
    {
     "data": {
      "text/plain": [
       "np.float64(115.16666666666667)"
      ]
     },
     "execution_count": 4,
     "metadata": {},
     "output_type": "execute_result"
    }
   ],
   "source": [
    "mask2 = yearly_deaths['clinic'] == 'clinic 2'\n",
    "yearly_deaths[mask2].deaths.mean()"
   ]
  },
  {
   "cell_type": "code",
   "execution_count": 5,
   "id": "977b9bf1-9c8f-49f0-a403-7f9cfd0e5749",
   "metadata": {},
   "outputs": [
    {
     "data": {
      "text/html": [
       "<div>\n",
       "<style scoped>\n",
       "    .dataframe tbody tr th:only-of-type {\n",
       "        vertical-align: middle;\n",
       "    }\n",
       "\n",
       "    .dataframe tbody tr th {\n",
       "        vertical-align: top;\n",
       "    }\n",
       "\n",
       "    .dataframe thead th {\n",
       "        text-align: right;\n",
       "    }\n",
       "</style>\n",
       "<table border=\"1\" class=\"dataframe\">\n",
       "  <thead>\n",
       "    <tr style=\"text-align: right;\">\n",
       "      <th></th>\n",
       "      <th>Clinic 1</th>\n",
       "      <th>Clinic 2</th>\n",
       "    </tr>\n",
       "  </thead>\n",
       "  <tbody>\n",
       "    <tr>\n",
       "      <th>Mean</th>\n",
       "      <td>331.5</td>\n",
       "      <td>115.166667</td>\n",
       "    </tr>\n",
       "  </tbody>\n",
       "</table>\n",
       "</div>"
      ],
      "text/plain": [
       "      Clinic 1    Clinic 2\n",
       "Mean     331.5  115.166667"
      ]
     },
     "execution_count": 5,
     "metadata": {},
     "output_type": "execute_result"
    }
   ],
   "source": [
    "means = pd.DataFrame({'Clinic 1': [yearly_deaths[mask].deaths.mean()],'Clinic 2': [yearly_deaths[mask2].deaths.mean()]},\n",
    "                    index = ['Mean'])\n",
    "means"
   ]
  },
  {
   "cell_type": "markdown",
   "id": "7bfc02e7-a64f-4279-b24d-fa61314af6c2",
   "metadata": {},
   "source": [
    "## <fontcolor>Comparar la media con la mediana</fontcolor>"
   ]
  },
  {
   "cell_type": "code",
   "execution_count": 6,
   "id": "80c5a848-abb1-4341-9e57-6e0007588736",
   "metadata": {},
   "outputs": [
    {
     "data": {
      "text/plain": [
       "np.float64(267.0)"
      ]
     },
     "execution_count": 6,
     "metadata": {},
     "output_type": "execute_result"
    }
   ],
   "source": [
    "yearly_deaths[mask].deaths.median()"
   ]
  },
  {
   "cell_type": "code",
   "execution_count": 7,
   "id": "341c893a-1769-42da-86f6-5f0c0bdbc8a1",
   "metadata": {},
   "outputs": [
    {
     "data": {
      "text/plain": [
       "np.float64(95.5)"
      ]
     },
     "execution_count": 7,
     "metadata": {},
     "output_type": "execute_result"
    }
   ],
   "source": [
    "yearly_deaths[mask2].deaths.median()"
   ]
  },
  {
   "cell_type": "code",
   "execution_count": 8,
   "id": "4d282358-6bdf-4ee4-ae6a-4c4daa31742b",
   "metadata": {},
   "outputs": [
    {
     "data": {
      "text/plain": [
       "np.float64(15315.5)"
      ]
     },
     "execution_count": 8,
     "metadata": {},
     "output_type": "execute_result"
    }
   ],
   "source": [
    "yearly_deaths[mask].deaths.var()"
   ]
  },
  {
   "cell_type": "markdown",
   "id": "8642b4c3-6ff2-4bfb-94f3-b00fd23292a6",
   "metadata": {},
   "source": [
    "Varianza muestral"
   ]
  },
  {
   "cell_type": "code",
   "execution_count": 9,
   "id": "48beeb4e-373c-4834-b512-28119a0433b5",
   "metadata": {},
   "outputs": [
    {
     "data": {
      "text/plain": [
       "np.float64(3104.166666666667)"
      ]
     },
     "execution_count": 9,
     "metadata": {},
     "output_type": "execute_result"
    }
   ],
   "source": [
    "yearly_deaths[mask2].deaths.var()"
   ]
  },
  {
   "cell_type": "markdown",
   "id": "6dfd176f-b31d-44f2-ad21-a5243536549f",
   "metadata": {},
   "source": [
    "Varianza poblacional"
   ]
  },
  {
   "cell_type": "code",
   "execution_count": 10,
   "id": "0adc10ac-4659-4376-8939-6f20fb1b6e5b",
   "metadata": {},
   "outputs": [
    {
     "data": {
      "text/plain": [
       "np.float64(2586.8055555555557)"
      ]
     },
     "execution_count": 10,
     "metadata": {},
     "output_type": "execute_result"
    }
   ],
   "source": [
    "yearly_deaths[mask2].deaths.var(ddof=0)"
   ]
  },
  {
   "cell_type": "markdown",
   "id": "d0e78eb5-f641-4cc9-bc28-a0fd7f0c9eeb",
   "metadata": {},
   "source": [
    "### Sum"
   ]
  },
  {
   "cell_type": "code",
   "execution_count": 11,
   "id": "446b6960-e07c-4a1e-9909-d41d08e601e4",
   "metadata": {},
   "outputs": [
    {
     "data": {
      "text/plain": [
       "np.int64(1989)"
      ]
     },
     "execution_count": 11,
     "metadata": {},
     "output_type": "execute_result"
    }
   ],
   "source": [
    "clinic1_deaths = yearly_deaths[mask].deaths.sum()\n",
    "clinic1_deaths"
   ]
  },
  {
   "cell_type": "code",
   "execution_count": 12,
   "id": "11ca25d9-3769-4cf1-8151-292aa2bdfa9b",
   "metadata": {},
   "outputs": [
    {
     "data": {
      "text/plain": [
       "np.int64(691)"
      ]
     },
     "execution_count": 12,
     "metadata": {},
     "output_type": "execute_result"
    }
   ],
   "source": [
    "clinic2_deaths = yearly_deaths[mask2].deaths.sum()\n",
    "clinic2_deaths"
   ]
  },
  {
   "cell_type": "code",
   "execution_count": 13,
   "id": "26ba335c-cc3d-4c18-b684-017997f32e5c",
   "metadata": {},
   "outputs": [
    {
     "data": {
      "text/plain": [
       "<Axes: title={'center': 'Deaths Comparison'}, ylabel='Deaths'>"
      ]
     },
     "execution_count": 13,
     "metadata": {},
     "output_type": "execute_result"
    },
    {
     "data": {
      "image/png": "[encoded data removed]",
      "text/plain": [
       "<Figure size 640x480 with 1 Axes>"
      ]
     },
     "metadata": {},
     "output_type": "display_data"
    }
   ],
   "source": [
    "deaths = pd.DataFrame({\n",
    "    'Deaths': [clinic1_deaths, clinic2_deaths]},index=['Clinic 1', 'Clinic 2'])\n",
    "deaths\n",
    "deaths.plot.bar(title='Deaths Comparison', ylabel='Deaths', color='red')\n"
   ]
  },
  {
   "cell_type": "markdown",
   "id": "6ed44a96-f45b-402a-b8ac-8e6235b75a7a",
   "metadata": {},
   "source": [
    "### Total deaths"
   ]
  },
  {
   "cell_type": "code",
   "execution_count": 14,
   "id": "1af631cb-d222-4dc1-8817-d98b51f87213",
   "metadata": {},
   "outputs": [
    {
     "data": {
      "text/plain": [
       "np.int64(2680)"
      ]
     },
     "execution_count": 14,
     "metadata": {},
     "output_type": "execute_result"
    }
   ],
   "source": [
    "total_deaths = yearly_deaths['deaths'].sum()\n",
    "total_deaths"
   ]
  },
  {
   "cell_type": "markdown",
   "id": "237e7426-2c37-4eae-ba02-4b4c66d21586",
   "metadata": {},
   "source": [
    "### Clinic 1 rate over total deaths"
   ]
  },
  {
   "cell_type": "code",
   "execution_count": 15,
   "id": "b6dd24cd-1a31-4aba-a047-6cfd5175beeb",
   "metadata": {},
   "outputs": [
    {
     "data": {
      "text/plain": [
       "np.float64(74.21641791044776)"
      ]
     },
     "execution_count": 15,
     "metadata": {},
     "output_type": "execute_result"
    }
   ],
   "source": [
    "rate1 = (clinic1_deaths / total_deaths) * 100\n",
    "rate1"
   ]
  },
  {
   "cell_type": "markdown",
   "id": "3216d07c-6cf7-4db6-97ed-c1238a9e1f9a",
   "metadata": {},
   "source": [
    "### Clinic 2 rate over total deaths"
   ]
  },
  {
   "cell_type": "code",
   "execution_count": 16,
   "id": "ebc4b07f-b067-47fc-93bb-2b679c17b2bc",
   "metadata": {},
   "outputs": [
    {
     "data": {
      "text/plain": [
       "np.float64(25.783582089552237)"
      ]
     },
     "execution_count": 16,
     "metadata": {},
     "output_type": "execute_result"
    }
   ],
   "source": [
    "rate2 = (clinic2_deaths / total_deaths) * 100\n",
    "rate2"
   ]
  },
  {
   "cell_type": "code",
   "execution_count": 17,
   "id": "5dd3d261-61ed-4477-b5ba-fea4348bd551",
   "metadata": {},
   "outputs": [
    {
     "data": {
      "text/html": [
       "<div>\n",
       "<style scoped>\n",
       "    .dataframe tbody tr th:only-of-type {\n",
       "        vertical-align: middle;\n",
       "    }\n",
       "\n",
       "    .dataframe tbody tr th {\n",
       "        vertical-align: top;\n",
       "    }\n",
       "\n",
       "    .dataframe thead th {\n",
       "        text-align: right;\n",
       "    }\n",
       "</style>\n",
       "<table border=\"1\" class=\"dataframe\">\n",
       "  <thead>\n",
       "    <tr style=\"text-align: right;\">\n",
       "      <th></th>\n",
       "      <th>Rates</th>\n",
       "    </tr>\n",
       "  </thead>\n",
       "  <tbody>\n",
       "    <tr>\n",
       "      <th>Clinic 1</th>\n",
       "      <td>74.216418</td>\n",
       "    </tr>\n",
       "    <tr>\n",
       "      <th>Clinic 2</th>\n",
       "      <td>25.783582</td>\n",
       "    </tr>\n",
       "  </tbody>\n",
       "</table>\n",
       "</div>"
      ],
      "text/plain": [
       "              Rates\n",
       "Clinic 1  74.216418\n",
       "Clinic 2  25.783582"
      ]
     },
     "execution_count": 17,
     "metadata": {},
     "output_type": "execute_result"
    },
    {
     "data": {
      "image/png": "[encoded data removed]",
      "text/plain": [
       "<Figure size 640x480 with 1 Axes>"
      ]
     },
     "metadata": {},
     "output_type": "display_data"
    }
   ],
   "source": [
    "rate = pd.DataFrame({'Rates':[rate1,rate2]},index=['Clinic 1', 'Clinic 2'])\n",
    "rate.plot.pie(y='Rates', autopct='%1.1f%%', colors=['lightblue', 'green'])\n",
    "\n",
    "#plt.xlabel = 'Clinica 1'\n",
    "#plt.ylabel = 'Clinica 2'\n",
    "rate"
   ]
  },
  {
   "cell_type": "markdown",
   "id": "3126b4a5-51a4-45b6-b227-a7b102497a9e",
   "metadata": {},
   "source": [
    "### <center> Each clinic's deaths per year </center>"
   ]
  },
  {
   "cell_type": "code",
   "execution_count": 18,
   "id": "5fc8d1eb-4985-4254-bb44-a7d341f81f12",
   "metadata": {},
   "outputs": [
    {
     "data": {
      "text/plain": [
       "array([1841, 1842, 1843, 1844, 1845, 1846])"
      ]
     },
     "execution_count": 18,
     "metadata": {},
     "output_type": "execute_result"
    },
    {
     "data": {
      "image/png": "[encoded data removed]",
      "text/plain": [
       "<Figure size 640x480 with 1 Axes>"
      ]
     },
     "metadata": {},
     "output_type": "display_data"
    }
   ],
   "source": [
    "ax = yearly_deaths[mask].deaths.plot(kind='bar', color='red', xlabel='Year', ylabel='Deaths', title='Clinic 1')\n",
    "labels = yearly_deaths['year'].unique()\n",
    "ax.set_xticklabels(labels)\n",
    "labels"
   ]
  },
  {
   "cell_type": "code",
   "execution_count": 19,
   "id": "702f3dbb-ccf9-43c1-ae97-9bcde48e2d13",
   "metadata": {},
   "outputs": [
    {
     "data": {
      "text/plain": [
       "array([1841, 1842, 1843, 1844, 1845, 1846])"
      ]
     },
     "execution_count": 19,
     "metadata": {},
     "output_type": "execute_result"
    },
    {
     "data": {
      "image/png": "[encoded data removed]",
      "text/plain": [
       "<Figure size 640x480 with 1 Axes>"
      ]
     },
     "metadata": {},
     "output_type": "display_data"
    }
   ],
   "source": [
    "ax = yearly_deaths[mask2].deaths.plot(kind='bar', color='red', xlabel='Year', ylabel='Deaths', title='Clinic 2')\n",
    "labels = yearly_deaths['year'].unique()\n",
    "ax.set_xticklabels(labels)\n",
    "labels"
   ]
  },
  {
   "cell_type": "markdown",
   "id": "f2d73203-ac5e-406d-bf27-c81f9882121b",
   "metadata": {},
   "source": [
    "### Births Sum"
   ]
  },
  {
   "cell_type": "code",
   "execution_count": 20,
   "id": "0b5f64e4-5ee8-46b5-be92-e2a0e3722bb0",
   "metadata": {},
   "outputs": [
    {
     "data": {
      "text/plain": [
       "np.int64(20042)"
      ]
     },
     "execution_count": 20,
     "metadata": {},
     "output_type": "execute_result"
    }
   ],
   "source": [
    "clinic1_births = yearly_deaths[mask].births.sum()\n",
    "clinic1_births"
   ]
  },
  {
   "cell_type": "code",
   "execution_count": 21,
   "id": "97b47361-400b-42eb-8892-e589459999c7",
   "metadata": {},
   "outputs": [
    {
     "data": {
      "text/plain": [
       "np.int64(17791)"
      ]
     },
     "execution_count": 21,
     "metadata": {},
     "output_type": "execute_result"
    }
   ],
   "source": [
    "clinic2_births = yearly_deaths[mask2].births.sum()\n",
    "clinic2_births"
   ]
  },
  {
   "cell_type": "markdown",
   "id": "5f0823f0-e053-492d-b1bd-ee73c5a7691e",
   "metadata": {},
   "source": [
    "/#df = pd.DataFrame({'mass': [0.330, 4.87 , 5.97],\n",
    "/#                   'radius': [2439.7, 6051.8, 6378.1]},\n",
    "/#                  index=['Mercury', 'Venus', 'Earth'])\n",
    "/#df"
   ]
  },
  {
   "cell_type": "code",
   "execution_count": 22,
   "id": "9571284a-96e7-4e53-83c4-77fe5502eba5",
   "metadata": {},
   "outputs": [
    {
     "data": {
      "image/png": "[encoded data removed]",
      "text/plain": [
       "<Figure size 640x480 with 1 Axes>"
      ]
     },
     "metadata": {},
     "output_type": "display_data"
    }
   ],
   "source": [
    "#arr = np.arange(10)\n",
    "#df = pd.DataFrame((['clinic 1', clinic1_births],['clinic 2', clinic2_births]), columns=['clinic','births'])\n",
    "#dfb = pd.DataFrame([clinic1_births, clinic2_births],index=['clinic 1', 'clinic 2'], columns=['births'])\n",
    "dfb = pd.DataFrame({\n",
    "    'clinic 1': [clinic1_births],\n",
    "    'clinic 2': [clinic2_births],\n",
    "    }, index=['births'])\n",
    "dfb.plot(kind='bar')\n",
    "plt.title('Total Births Comparison')\n",
    "plt.xlabel('Clinic')\n",
    "plt.ylabel('Births')\n",
    "plt.show()"
   ]
  },
  {
   "cell_type": "markdown",
   "id": "6a5446ce-7605-403e-a732-d9e9a8932149",
   "metadata": {},
   "source": [
    "### Total births"
   ]
  },
  {
   "cell_type": "code",
   "execution_count": 23,
   "id": "c21ed4c5-438d-45cd-8a5c-4b0aba38cd78",
   "metadata": {},
   "outputs": [
    {
     "data": {
      "text/plain": [
       "np.int64(37833)"
      ]
     },
     "execution_count": 23,
     "metadata": {},
     "output_type": "execute_result"
    }
   ],
   "source": [
    "total_births = yearly_deaths['births'].sum()\n",
    "total_births"
   ]
  },
  {
   "cell_type": "markdown",
   "id": "52ef9980-ed53-4ed5-b264-f6d02da75d80",
   "metadata": {},
   "source": [
    "### Clinic 1 rate over total births"
   ]
  },
  {
   "cell_type": "code",
   "execution_count": 24,
   "id": "ce4182ff-d04b-4848-bd56-9937d0f1c166",
   "metadata": {},
   "outputs": [
    {
     "data": {
      "text/plain": [
       "np.float64(52.97491607855576)"
      ]
     },
     "execution_count": 24,
     "metadata": {},
     "output_type": "execute_result"
    }
   ],
   "source": [
    "birth_rate1 = (clinic1_births / total_births) * 100\n",
    "birth_rate1"
   ]
  },
  {
   "cell_type": "markdown",
   "id": "ec4ab828-da62-4c92-87a4-e57a889f686c",
   "metadata": {},
   "source": [
    "### Clinic 2 rate over total births"
   ]
  },
  {
   "cell_type": "code",
   "execution_count": 25,
   "id": "dc077df6-c5ba-47ce-a6cc-4c956fe6f937",
   "metadata": {},
   "outputs": [
    {
     "data": {
      "text/plain": [
       "np.float64(47.02508392144424)"
      ]
     },
     "execution_count": 25,
     "metadata": {},
     "output_type": "execute_result"
    }
   ],
   "source": [
    "birth_rate2 = (clinic2_births / total_births) * 100\n",
    "birth_rate2"
   ]
  },
  {
   "cell_type": "code",
   "execution_count": 26,
   "id": "3ea52c34-5e7c-4f04-9df4-8cfc56fd5e83",
   "metadata": {},
   "outputs": [
    {
     "data": {
      "text/plain": [
       "array([<Axes: ylabel='Rates'>], dtype=object)"
      ]
     },
     "execution_count": 26,
     "metadata": {},
     "output_type": "execute_result"
    },
    {
     "data": {
      "image/png": "[encoded data removed]",
      "text/plain": [
       "<Figure size 640x480 with 1 Axes>"
      ]
     },
     "metadata": {},
     "output_type": "display_data"
    }
   ],
   "source": [
    "nacimientos = pd.DataFrame({'Rates': [birth_rate1, birth_rate2]},\n",
    "                            index=['Clinic 1', 'Clinic 2']\n",
    ")\n",
    "nacimientos\n",
    "nacimientos.plot.pie(y='Rates', autopct='%1.1f%%', subplots=True, colors=['brown', 'yellow'])"
   ]
  },
  {
   "cell_type": "markdown",
   "id": "a7679172-2f6f-4ef0-b7a6-f40f82cc0b13",
   "metadata": {},
   "source": [
    "### Clinic 1 deaths vs births rate"
   ]
  },
  {
   "cell_type": "code",
   "execution_count": 27,
   "id": "994ae89e-dca0-4fe1-ae17-16d4fc5dde6a",
   "metadata": {},
   "outputs": [
    {
     "data": {
      "text/plain": [
       "np.float64(9.924159265542361)"
      ]
     },
     "execution_count": 27,
     "metadata": {},
     "output_type": "execute_result"
    }
   ],
   "source": [
    "(clinic1_deaths / clinic1_births) * 100"
   ]
  },
  {
   "cell_type": "markdown",
   "id": "4348c8ad-e662-4250-b4d4-fdd3c1c434b6",
   "metadata": {},
   "source": [
    "### Clinic 2 deaths vs births rate"
   ]
  },
  {
   "cell_type": "code",
   "execution_count": 28,
   "id": "608aebb7-0d5a-4302-b328-3efa7f253f9c",
   "metadata": {},
   "outputs": [
    {
     "data": {
      "text/plain": [
       "np.float64(3.8839862852003826)"
      ]
     },
     "execution_count": 28,
     "metadata": {},
     "output_type": "execute_result"
    }
   ],
   "source": [
    "(clinic2_deaths / clinic2_births) * 100"
   ]
  },
  {
   "cell_type": "code",
   "execution_count": 29,
   "id": "e3f54f70-5585-48a6-af44-b9b182e1007d",
   "metadata": {},
   "outputs": [
    {
     "data": {
      "text/plain": [
       "year          1846\n",
       "births        4010\n",
       "deaths         518\n",
       "clinic    clinic 1\n",
       "dtype: object"
      ]
     },
     "execution_count": 29,
     "metadata": {},
     "output_type": "execute_result"
    }
   ],
   "source": [
    "yearly_deaths[mask].max()"
   ]
  },
  {
   "cell_type": "code",
   "execution_count": 30,
   "id": "f3686175-3a15-4e80-9428-d6334a30cf85",
   "metadata": {},
   "outputs": [
    {
     "data": {
      "text/plain": [
       "year          1846\n",
       "births        3754\n",
       "deaths         202\n",
       "clinic    clinic 2\n",
       "dtype: object"
      ]
     },
     "execution_count": 30,
     "metadata": {},
     "output_type": "execute_result"
    }
   ],
   "source": [
    "yearly_deaths[mask2].max()"
   ]
  },
  {
   "cell_type": "code",
   "execution_count": 31,
   "id": "e8945d49-9ee6-4ee0-861e-f7be5a3ffee8",
   "metadata": {},
   "outputs": [
    {
     "data": {
      "text/plain": [
       "<Axes: >"
      ]
     },
     "execution_count": 31,
     "metadata": {},
     "output_type": "execute_result"
    },
    {
     "data": {
      "image/png": "[encoded data removed]",
      "text/plain": [
       "<Figure size 640x480 with 1 Axes>"
      ]
     },
     "metadata": {},
     "output_type": "display_data"
    }
   ],
   "source": [
    "yearly_deaths['births'].plot()"
   ]
  },
  {
   "cell_type": "code",
   "execution_count": 32,
   "id": "4157d443-5c5b-4299-bc1b-557b8ae2efe3",
   "metadata": {},
   "outputs": [],
   "source": [
    "monthly_deaths = pd.read_csv('Data/monthly_deaths.csv')\n",
    "\n",
    "monthly_deaths.describe()\n",
    "\n",
    "monthly_deaths.rename(columns=lambda x: x.strip(), inplace=True)\n",
    "#monthly_deaths.info()"
   ]
  },
  {
   "cell_type": "code",
   "execution_count": 33,
   "id": "3fac39c9-8395-40db-a6a8-ffd1f0f82c5c",
   "metadata": {
    "scrolled": true
   },
   "outputs": [
    {
     "data": {
      "text/html": [
       "<div>\n",
       "<style scoped>\n",
       "    .dataframe tbody tr th:only-of-type {\n",
       "        vertical-align: middle;\n",
       "    }\n",
       "\n",
       "    .dataframe tbody tr th {\n",
       "        vertical-align: top;\n",
       "    }\n",
       "\n",
       "    .dataframe thead th {\n",
       "        text-align: right;\n",
       "    }\n",
       "</style>\n",
       "<table border=\"1\" class=\"dataframe\">\n",
       "  <thead>\n",
       "    <tr style=\"text-align: right;\">\n",
       "      <th></th>\n",
       "      <th>date</th>\n",
       "      <th>births</th>\n",
       "      <th>deaths</th>\n",
       "    </tr>\n",
       "  </thead>\n",
       "  <tbody>\n",
       "    <tr>\n",
       "      <th>0</th>\n",
       "      <td>1841-01-01</td>\n",
       "      <td>254</td>\n",
       "      <td>37</td>\n",
       "    </tr>\n",
       "    <tr>\n",
       "      <th>1</th>\n",
       "      <td>1841-02-01</td>\n",
       "      <td>239</td>\n",
       "      <td>18</td>\n",
       "    </tr>\n",
       "    <tr>\n",
       "      <th>2</th>\n",
       "      <td>1841-03-01</td>\n",
       "      <td>277</td>\n",
       "      <td>12</td>\n",
       "    </tr>\n",
       "    <tr>\n",
       "      <th>3</th>\n",
       "      <td>1841-04-01</td>\n",
       "      <td>255</td>\n",
       "      <td>4</td>\n",
       "    </tr>\n",
       "    <tr>\n",
       "      <th>4</th>\n",
       "      <td>1841-05-01</td>\n",
       "      <td>255</td>\n",
       "      <td>2</td>\n",
       "    </tr>\n",
       "    <tr>\n",
       "      <th>...</th>\n",
       "      <td>...</td>\n",
       "      <td>...</td>\n",
       "      <td>...</td>\n",
       "    </tr>\n",
       "    <tr>\n",
       "      <th>93</th>\n",
       "      <td>1848-11-01</td>\n",
       "      <td>310</td>\n",
       "      <td>9</td>\n",
       "    </tr>\n",
       "    <tr>\n",
       "      <th>94</th>\n",
       "      <td>1848-12-01</td>\n",
       "      <td>373</td>\n",
       "      <td>5</td>\n",
       "    </tr>\n",
       "    <tr>\n",
       "      <th>95</th>\n",
       "      <td>1849-01-01</td>\n",
       "      <td>403</td>\n",
       "      <td>9</td>\n",
       "    </tr>\n",
       "    <tr>\n",
       "      <th>96</th>\n",
       "      <td>1849-02-01</td>\n",
       "      <td>389</td>\n",
       "      <td>12</td>\n",
       "    </tr>\n",
       "    <tr>\n",
       "      <th>97</th>\n",
       "      <td>1849-03-01</td>\n",
       "      <td>406</td>\n",
       "      <td>20</td>\n",
       "    </tr>\n",
       "  </tbody>\n",
       "</table>\n",
       "<p>98 rows × 3 columns</p>\n",
       "</div>"
      ],
      "text/plain": [
       "          date  births  deaths\n",
       "0   1841-01-01     254      37\n",
       "1   1841-02-01     239      18\n",
       "2   1841-03-01     277      12\n",
       "3   1841-04-01     255       4\n",
       "4   1841-05-01     255       2\n",
       "..         ...     ...     ...\n",
       "93  1848-11-01     310       9\n",
       "94  1848-12-01     373       5\n",
       "95  1849-01-01     403       9\n",
       "96  1849-02-01     389      12\n",
       "97  1849-03-01     406      20\n",
       "\n",
       "[98 rows x 3 columns]"
      ]
     },
     "execution_count": 33,
     "metadata": {},
     "output_type": "execute_result"
    }
   ],
   "source": [
    "monthly_deaths[:]"
   ]
  },
  {
   "cell_type": "code",
   "execution_count": 34,
   "id": "8f6f2713-e09d-4167-af48-3c3a811fcb17",
   "metadata": {},
   "outputs": [],
   "source": [
    "monthly_deaths['date'] = pd.to_datetime(monthly_deaths['date'])"
   ]
  },
  {
   "cell_type": "code",
   "execution_count": 35,
   "id": "cc87dd46-3c30-4c15-bac3-4a6b764f7d9a",
   "metadata": {},
   "outputs": [
    {
     "name": "stdout",
     "output_type": "stream",
     "text": [
      "<class 'pandas.core.frame.DataFrame'>\n",
      "RangeIndex: 98 entries, 0 to 97\n",
      "Data columns (total 3 columns):\n",
      " #   Column  Non-Null Count  Dtype         \n",
      "---  ------  --------------  -----         \n",
      " 0   date    98 non-null     datetime64[ns]\n",
      " 1   births  98 non-null     int64         \n",
      " 2   deaths  98 non-null     int64         \n",
      "dtypes: datetime64[ns](1), int64(2)\n",
      "memory usage: 2.4 KB\n"
     ]
    }
   ],
   "source": [
    "monthly_deaths.info()"
   ]
  },
  {
   "cell_type": "code",
   "execution_count": 36,
   "id": "66f26d7e-68cb-426c-a71e-387a62536d0f",
   "metadata": {},
   "outputs": [],
   "source": [
    "monthly_deaths.index = monthly_deaths['date']"
   ]
  },
  {
   "cell_type": "code",
   "execution_count": 37,
   "id": "46d5f60e-9235-4f14-8b47-3bee02d8e549",
   "metadata": {},
   "outputs": [],
   "source": [
    "monthly_deaths = monthly_deaths.drop(['date'], axis=1)"
   ]
  },
  {
   "cell_type": "code",
   "execution_count": 38,
   "id": "410837fc-7f88-4367-a1aa-7adc470606ad",
   "metadata": {},
   "outputs": [
    {
     "data": {
      "text/plain": [
       "np.int64(26166)"
      ]
     },
     "execution_count": 38,
     "metadata": {},
     "output_type": "execute_result"
    }
   ],
   "source": [
    "monthly_deaths['births'].sum()"
   ]
  },
  {
   "cell_type": "code",
   "execution_count": 39,
   "id": "57731f45-e09f-4d7b-9765-90dafa2b96a6",
   "metadata": {},
   "outputs": [
    {
     "data": {
      "text/plain": [
       "np.int64(2202)"
      ]
     },
     "execution_count": 39,
     "metadata": {},
     "output_type": "execute_result"
    }
   ],
   "source": [
    "monthly_deaths['deaths'].sum()"
   ]
  },
  {
   "cell_type": "code",
   "execution_count": 40,
   "id": "9dfdb54d-546f-4e90-abc3-861ed935d5bb",
   "metadata": {},
   "outputs": [
    {
     "data": {
      "text/plain": [
       "np.float64(267.0)"
      ]
     },
     "execution_count": 40,
     "metadata": {},
     "output_type": "execute_result"
    }
   ],
   "source": [
    "monthly_deaths['births'].mean()"
   ]
  },
  {
   "cell_type": "code",
   "execution_count": 41,
   "id": "f1632d81-5111-494c-97fd-6925814eb99c",
   "metadata": {},
   "outputs": [
    {
     "data": {
      "text/plain": [
       "np.float64(22.46938775510204)"
      ]
     },
     "execution_count": 41,
     "metadata": {},
     "output_type": "execute_result"
    }
   ],
   "source": [
    "monthly_deaths['deaths'].mean()"
   ]
  },
  {
   "cell_type": "code",
   "execution_count": 42,
   "id": "e708755b-d8fc-4c26-9cc2-5bc1d91da64b",
   "metadata": {},
   "outputs": [],
   "source": [
    "monthly_deaths['day'] = monthly_deaths.index.day\n",
    "monthly_deaths['month'] = monthly_deaths.index.month\n",
    "monthly_deaths['year'] = monthly_deaths.index.year\n",
    "#monthly_deaths['month'] = monthly_deaths.index.apply(lambda x: x.month)\n",
    "#monthly_deaths['year'] = monthly_deaths.index.apply(lambda x: x.year)"
   ]
  },
  {
   "cell_type": "code",
   "execution_count": 43,
   "id": "9b32bcd7-800f-4400-94e3-b1f16aa68667",
   "metadata": {},
   "outputs": [
    {
     "data": {
      "text/plain": [
       "array([1841, 1842, 1843, 1844, 1845, 1846, 1847, 1848, 1849], dtype=int32)"
      ]
     },
     "execution_count": 43,
     "metadata": {},
     "output_type": "execute_result"
    }
   ],
   "source": [
    "monthly_deaths['year'].unique()"
   ]
  },
  {
   "cell_type": "markdown",
   "id": "a838a219-fa59-4d34-8283-3dea0989adac",
   "metadata": {},
   "source": [
    "### Resample para sacar operaciones de distintas frecuencias"
   ]
  },
  {
   "cell_type": "code",
   "execution_count": 44,
   "id": "ee4b5a54-f3f3-49d2-92ae-0928d7cfe267",
   "metadata": {},
   "outputs": [
    {
     "data": {
      "text/plain": [
       "date\n",
       "1841-12-31    234.181818\n",
       "1842-12-31    255.583333\n",
       "1843-12-31    239.250000\n",
       "1844-12-31    243.166667\n",
       "1845-12-31    271.083333\n",
       "1846-12-31    279.333333\n",
       "1847-12-31    281.250000\n",
       "1848-12-31    296.333333\n",
       "1849-12-31    399.333333\n",
       "Freq: YE-DEC, Name: births, dtype: float64"
      ]
     },
     "execution_count": 44,
     "metadata": {},
     "output_type": "execute_result"
    }
   ],
   "source": [
    "a = monthly_deaths['births'].resample('YE').mean()\n",
    "a"
   ]
  },
  {
   "cell_type": "code",
   "execution_count": 45,
   "id": "7173dd41-0bf8-48d7-8cc5-4bfdd0b357a3",
   "metadata": {},
   "outputs": [
    {
     "data": {
      "text/plain": [
       "date\n",
       "1841-12-31    16.818182\n",
       "1842-12-31    43.416667\n",
       "1843-12-31    22.833333\n",
       "1844-12-31    21.666667\n",
       "1845-12-31    20.083333\n",
       "1846-12-31    38.250000\n",
       "1847-12-31    14.666667\n",
       "1848-12-31     3.750000\n",
       "1849-12-31    13.666667\n",
       "Freq: YE-DEC, Name: deaths, dtype: float64"
      ]
     },
     "execution_count": 45,
     "metadata": {},
     "output_type": "execute_result"
    }
   ],
   "source": [
    "b = monthly_deaths['deaths'].resample('YE').mean()\n",
    "b"
   ]
  },
  {
   "cell_type": "code",
   "execution_count": 46,
   "id": "f487683a-ecf4-4529-8e91-8930cffdefaa",
   "metadata": {},
   "outputs": [
    {
     "data": {
      "text/plain": [
       "date\n",
       "1841-12-31    2576\n",
       "1842-12-31    3067\n",
       "1843-12-31    2871\n",
       "1844-12-31    2918\n",
       "1845-12-31    3253\n",
       "1846-12-31    3352\n",
       "1847-12-31    3375\n",
       "1848-12-31    3556\n",
       "1849-12-31    1198\n",
       "Freq: YE-DEC, Name: births, dtype: int64"
      ]
     },
     "execution_count": 46,
     "metadata": {},
     "output_type": "execute_result"
    }
   ],
   "source": [
    "c = monthly_deaths['births'].resample('YE').sum()\n",
    "c"
   ]
  },
  {
   "cell_type": "code",
   "execution_count": 47,
   "id": "7459cc52-ca67-4190-ada5-f34dde31b15d",
   "metadata": {},
   "outputs": [
    {
     "data": {
      "text/plain": [
       "array([185, 521, 274, 260, 241, 459, 176,  45,  41])"
      ]
     },
     "execution_count": 47,
     "metadata": {},
     "output_type": "execute_result"
    }
   ],
   "source": [
    "d = monthly_deaths['deaths'].resample('YE').sum()\n",
    "d.values"
   ]
  },
  {
   "cell_type": "markdown",
   "id": "e8de6a96-1367-4ecd-adec-3c44bdde9ade",
   "metadata": {},
   "source": [
    "### Plotear ambos"
   ]
  },
  {
   "cell_type": "code",
   "execution_count": 48,
   "id": "a219ae8c-7eb0-44db-9616-4b91ef2a5e66",
   "metadata": {},
   "outputs": [
    {
     "data": {
      "text/plain": [
       "<Axes: xlabel='date'>"
      ]
     },
     "execution_count": 48,
     "metadata": {},
     "output_type": "execute_result"
    },
    {
     "data": {
      "image/png": "[encoded data removed]",
      "text/plain": [
       "<Figure size 640x480 with 1 Axes>"
      ]
     },
     "metadata": {},
     "output_type": "display_data"
    }
   ],
   "source": [
    "#df = pd.DataFrame(data=[a.values, b.values, c.values, d.values])\n",
    "dfMean = pd.DataFrame(data=[a, b])\n",
    "#df.apply(lambda x: x.drop(['date']))\n",
    "dfMeanT = dfMean.T #Trasponer columnas a filas y visceversa\n",
    "dfMeanT.plot()"
   ]
  },
  {
   "cell_type": "code",
   "execution_count": 49,
   "id": "d20a8705-217d-452b-a43a-09ccf8cbc383",
   "metadata": {
    "scrolled": true
   },
   "outputs": [
    {
     "data": {
      "text/plain": [
       "<Axes: xlabel='date'>"
      ]
     },
     "execution_count": 49,
     "metadata": {},
     "output_type": "execute_result"
    },
    {
     "data": {
      "image/png": "[encoded data removed]",
      "text/plain": [
       "<Figure size 640x480 with 1 Axes>"
      ]
     },
     "metadata": {},
     "output_type": "display_data"
    }
   ],
   "source": [
    "dfSum = pd.DataFrame(data=[c, d])\n",
    "dfSumT = dfSum.T\n",
    "dfSumT.plot()"
   ]
  },
  {
   "cell_type": "code",
   "execution_count": 50,
   "id": "30786c86-0f64-4f9f-9277-fbbc890ba501",
   "metadata": {},
   "outputs": [
    {
     "data": {
      "text/plain": [
       "<Axes: xlabel='date'>"
      ]
     },
     "execution_count": 50,
     "metadata": {},
     "output_type": "execute_result"
    },
    {
     "data": {
      "image/png": "[encoded data removed]",
      "text/plain": [
       "<Figure size 1200x600 with 1 Axes>"
      ]
     },
     "metadata": {},
     "output_type": "display_data"
    }
   ],
   "source": [
    "ax = dfSumT.plot(kind='bar', figsize=(12,6))\n",
    "labels = monthly_deaths['year'].unique()\n",
    "ax.set_xticklabels(labels)\n",
    "ax"
   ]
  },
  {
   "cell_type": "markdown",
   "id": "769e88b2-3433-4263-a0db-d60914d33671",
   "metadata": {},
   "source": [
    "Sacar diferencia de deaths a partir del año en que se impuso el handwashing<br>\n",
    "Sacar porcentaje de cuanto se redujo<br>\n",
    "Anio con maxima cantidad y minima cantidad de muertes, antes y despues de evento"
   ]
  },
  {
   "cell_type": "code",
   "execution_count": 59,
   "id": "c1ebe430-337c-48da-9ba4-841fd7ad35c8",
   "metadata": {},
   "outputs": [],
   "source": [
    "hand_washing = pd.to_datetime('1847-06-01')\n",
    "\n",
    "before_handwashing = monthly_deaths[monthly_deaths.index < hand_washing]\n",
    "after_handwashing = monthly_deaths[monthly_deaths.index >= hand_washing]"
   ]
  },
  {
   "cell_type": "code",
   "execution_count": 60,
   "id": "3e285771-05ad-4b30-a5bd-5633e16d0bd9",
   "metadata": {},
   "outputs": [
    {
     "data": {
      "text/plain": [
       "<Axes: xlabel='date'>"
      ]
     },
     "execution_count": 60,
     "metadata": {},
     "output_type": "execute_result"
    },
    {
     "data": {
      "image/png": "[encoded data removed]",
      "text/plain": [
       "<Figure size 640x480 with 1 Axes>"
      ]
     },
     "metadata": {},
     "output_type": "display_data"
    }
   ],
   "source": [
    "ax = before_handwashing.deaths.plot(color='red', label='Before Handwashing')\n",
    "after_handwashing.deaths.plot(color='orange', label='After Handwashing')"
   ]
  },
  {
   "cell_type": "code",
   "execution_count": 61,
   "id": "f1faaa97-141a-4be4-b957-42ff787cd82e",
   "metadata": {},
   "outputs": [
    {
     "data": {
      "text/plain": [
       "np.float64(0.10504998260908789)"
      ]
     },
     "execution_count": 61,
     "metadata": {},
     "output_type": "execute_result"
    }
   ],
   "source": [
    "proportion_before = before_handwashing['deaths'] / before_handwashing['births']\n",
    "proportion_after = after_handwashing['deaths'] / after_handwashing['births']\n",
    "proportion_before.mean()"
   ]
  },
  {
   "cell_type": "code",
   "execution_count": 55,
   "id": "b5bfc102-61cc-41a0-9ce7-fa08514cb2cc",
   "metadata": {},
   "outputs": [
    {
     "data": {
      "text/plain": [
       "np.float64(0.021093375097254535)"
      ]
     },
     "execution_count": 55,
     "metadata": {},
     "output_type": "execute_result"
    }
   ],
   "source": [
    "proportion_after.mean()"
   ]
  },
  {
   "cell_type": "code",
   "execution_count": 56,
   "id": "3c6bdffe-d366-486d-bee3-6e257f49592f",
   "metadata": {},
   "outputs": [
    {
     "data": {
      "text/plain": [
       "np.float64(-0.08395660751183336)"
      ]
     },
     "execution_count": 56,
     "metadata": {},
     "output_type": "execute_result"
    }
   ],
   "source": [
    "proportion_after.mean() - proportion_before.mean()"
   ]
  }
 ],
 "metadata": {
  "kernelspec": {
   "display_name": "Python 3 (ipykernel)",
   "language": "python",
   "name": "python3"
  },
  "language_info": {
   "codemirror_mode": {
    "name": "ipython",
    "version": 3
   },
   "file_extension": ".py",
   "mimetype": "text/x-python",
   "name": "python",
   "nbconvert_exporter": "python",
   "pygments_lexer": "ipython3",
   "version": "3.10.4"
  }
 },
 "nbformat": 4,
 "nbformat_minor": 5
}
